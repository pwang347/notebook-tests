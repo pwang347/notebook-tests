{
  "cells": [
    {
      "cell_type": "markdown",
      "source": [
        "# Using Experimental Simulators with Q# and Python"
      ],
      "metadata": {},
      "id": "a21769ec"
    },
    {
      "cell_type": "code",
      "source": [
        "!pip install matplotlib\r\n",
        "!pip install qutip"
      ],
      "outputs": [
        {
          "output_type": "stream",
          "name": "stdout",
          "text": [
            "Defaulting to user installation because normal site-packages is not writeable\n",
            "Collecting matplotlib\n",
            "  Downloading matplotlib-3.4.2-cp37-cp37m-manylinux1_x86_64.whl (10.3 MB)\n",
            "\u001b[K     |████████████████████████████████| 10.3 MB 4.4 MB/s eta 0:00:01\n",
            "\u001b[?25hRequirement already satisfied: pyparsing>=2.2.1 in /usr/local/lib/python3.7/site-packages (from matplotlib) (2.4.7)\n",
            "Collecting pillow>=6.2.0\n",
            "  Downloading Pillow-8.3.1-cp37-cp37m-manylinux_2_5_x86_64.manylinux1_x86_64.whl (3.0 MB)\n",
            "\u001b[K     |████████████████████████████████| 3.0 MB 34.0 MB/s eta 0:00:01\n",
            "\u001b[?25hCollecting cycler>=0.10\n",
            "  Downloading cycler-0.10.0-py2.py3-none-any.whl (6.5 kB)\n",
            "Requirement already satisfied: python-dateutil>=2.7 in /usr/local/lib/python3.7/site-packages (from matplotlib) (2.8.1)\n",
            "Collecting kiwisolver>=1.0.1\n",
            "  Downloading kiwisolver-1.3.1-cp37-cp37m-manylinux1_x86_64.whl (1.1 MB)\n",
            "\u001b[K     |████████████████████████████████| 1.1 MB 24.2 MB/s eta 0:00:01\n",
            "\u001b[?25hRequirement already satisfied: numpy>=1.16 in /usr/local/lib/python3.7/site-packages (from matplotlib) (1.20.3)\n",
            "Requirement already satisfied: six in /usr/local/lib/python3.7/site-packages (from cycler>=0.10->matplotlib) (1.16.0)\n",
            "Installing collected packages: pillow, kiwisolver, cycler, matplotlib\n",
            "Successfully installed cycler-0.10.0 kiwisolver-1.3.1 matplotlib-3.4.2 pillow-8.3.1\n",
            "\u001b[33mWARNING: You are using pip version 21.1.2; however, version 21.2.2 is available.\n",
            "You should consider upgrading via the '/usr/local/bin/python -m pip install --upgrade pip' command.\u001b[0m\n",
            "Defaulting to user installation because normal site-packages is not writeable\n",
            "Collecting qutip\n",
            "  Downloading qutip-4.6.2-cp37-cp37m-manylinux2010_x86_64.whl (14.6 MB)\n",
            "\u001b[K     |████████████████████████████████| 14.6 MB 8.0 MB/s eta 0:00:01\n",
            "\u001b[?25hRequirement already satisfied: packaging in /usr/local/lib/python3.7/site-packages (from qutip) (20.9)\n",
            "Collecting scipy>=1.0\n",
            "  Downloading scipy-1.7.1-cp37-cp37m-manylinux_2_5_x86_64.manylinux1_x86_64.whl (28.5 MB)\n",
            "\u001b[K     |████████████████████████████████| 28.5 MB 39.3 MB/s eta 0:00:01\n",
            "\u001b[?25hRequirement already satisfied: numpy>=1.16.6 in /usr/local/lib/python3.7/site-packages (from qutip) (1.20.3)\n",
            "Requirement already satisfied: pyparsing>=2.0.2 in /usr/local/lib/python3.7/site-packages (from packaging->qutip) (2.4.7)\n",
            "Installing collected packages: scipy, qutip\n",
            "Successfully installed qutip-4.6.2 scipy-1.7.1\n",
            "\u001b[33mWARNING: You are using pip version 21.1.2; however, version 21.2.2 is available.\n",
            "You should consider upgrading via the '/usr/local/bin/python -m pip install --upgrade pip' command.\u001b[0m\n"
          ]
        }
      ],
      "execution_count": 3,
      "metadata": {
        "collapsed": true,
        "jupyter": {
          "source_hidden": false,
          "outputs_hidden": false
        },
        "nteract": {
          "transient": {
            "deleting": false
          }
        }
      },
      "id": "98112862-73f1-4dca-953a-db053eddbc53"
    },
    {
      "cell_type": "code",
      "source": [
        "import qutip as qt\n",
        "import qsharp.experimental\n",
        "qsharp.experimental.enable_noisy_simulation()\n",
        "\n",
        "qsharp.config[\"experimental.simulators.nQubits\"] = 1\n",
        "qsharp.config[\"experimental.simulators.stabilizerStateStyle\"] = \"denseGroupPresentation\""
      ],
      "outputs": [
        {
          "output_type": "stream",
          "name": "stdout",
          "text": [
            "Preparing Q# environment...\n",
            ".."
          ]
        }
      ],
      "execution_count": 1,
      "metadata": {},
      "id": "00c0728f"
    },
    {
      "cell_type": "code",
      "source": [
        "%%qsharp\r\n",
        "open Microsoft.Quantum.Diagnostics;\r\n",
        "\r\n",
        "operation DumpPlus() : Unit {\r\n",
        "    use q = Qubit();\r\n",
        "    H(q);\r\n",
        "    DumpMachine();\r\n",
        "    X(q);\r\n",
        "    Reset(q);\r\n",
        "}"
      ],
      "outputs": [],
      "execution_count": 2,
      "metadata": {
        "collapsed": true,
        "jupyter": {
          "source_hidden": false,
          "outputs_hidden": false
        },
        "nteract": {
          "transient": {
            "deleting": false
          }
        }
      },
      "id": "556ad9d8-e434-4a15-875e-f782ac4e668a"
    },
    {
      "cell_type": "markdown",
      "source": [
        "## Depolarizing Noise"
      ],
      "metadata": {},
      "id": "9e1fd1cd"
    },
    {
      "cell_type": "code",
      "source": [
        "noise_model = qsharp.experimental.get_noise_model_by_name('ideal')"
      ],
      "outputs": [],
      "execution_count": 3,
      "metadata": {},
      "id": "4cfc0e13"
    },
    {
      "cell_type": "code",
      "source": [
        "def depolarizing_noise(p=1.0):\n",
        "    return p * qt.to_super(qt.qeye(2)) + ((1 - p) / 4) * sum(map(\n",
        "        qt.to_super, [P.as_qobj() for P in qsharp.Pauli]\n",
        "    ))"
      ],
      "outputs": [],
      "execution_count": 4,
      "metadata": {},
      "id": "938accec"
    },
    {
      "cell_type": "code",
      "source": [
        "noise_model['h'] = depolarizing_noise(0.99) * qt.to_super(qt.qip.operations.hadamard_transform())\n",
        "qsharp.experimental.set_noise_model(noise_model)"
      ],
      "outputs": [],
      "execution_count": 5,
      "metadata": {},
      "id": "3add5aa9"
    },
    {
      "cell_type": "code",
      "source": [
        "DumpPlus.simulate()"
      ],
      "outputs": [
        {
          "output_type": "display_data",
          "data": {
            "text/plain": "|0⟩\t0.7071067811865476 + 0𝑖\n|1⟩\t0.7071067811865476 + 0𝑖",
            "text/html": "\r\n                    <table style=\"table-layout: fixed; width: 100%\">\r\n                        <thead>\r\n                            \r\n                        <tr>\r\n                            <th>Qubit IDs</th>\r\n                            <td span=\"3\">0</td>\r\n                        </tr>\r\n                    \r\n                            <tr>\r\n                                <th style=\"width: 20ch)\">Basis state (little endian)</th>\r\n                                <th style=\"width: 20ch\">Amplitude</th><th style=\"width: calc(100% - 26ch - 20ch)\">Meas. Pr.</th><th style=\"width: 6ch\">Phase</th>\r\n                            </tr>\r\n                        </thead>\r\n                        <tbody>\r\n                        \r\n                            <tr>\r\n                                <td>$\\left|0\\right\\rangle$</td>\r\n                                <td>$0.7071 + 0.0000 i$</td>\r\n                                \r\n                                <td>\r\n                                    <progress\r\n                                        max=\"100\"\r\n                                        value=\"50.000000000000014\"\r\n                                        style=\"width: 100%;\"\r\n                                    > \r\n                                    <td>\r\n                                    <p id=\"round-27d3df88-e97d-48f1-932e-b949509df532\"> \r\n                                    <script>\r\n                                    var num = 50.000000000000014;\r\n                                    num = num.toFixed(4);\r\n                                    var num_string = num + \"%\";\r\n                                     document.getElementById(\"round-27d3df88-e97d-48f1-932e-b949509df532\").innerHTML = num_string;\r\n                                    </script> </p>\r\n                                    </td>\r\n                                </td>\r\n                            \r\n                                \r\n                                <td style=\"transform: rotate(0deg);\r\n                   text-align: center;\">\r\n                                 ↑\r\n                                </td>\r\n                            \r\n                            </tr>\r\n                        \n\r\n                            <tr>\r\n                                <td>$\\left|1\\right\\rangle$</td>\r\n                                <td>$0.7071 + 0.0000 i$</td>\r\n                                \r\n                                <td>\r\n                                    <progress\r\n                                        max=\"100\"\r\n                                        value=\"50.000000000000014\"\r\n                                        style=\"width: 100%;\"\r\n                                    > \r\n                                    <td>\r\n                                    <p id=\"round-0f2e5514-625c-45b3-aa7c-64b34ca4af97\"> \r\n                                    <script>\r\n                                    var num = 50.000000000000014;\r\n                                    num = num.toFixed(4);\r\n                                    var num_string = num + \"%\";\r\n                                     document.getElementById(\"round-0f2e5514-625c-45b3-aa7c-64b34ca4af97\").innerHTML = num_string;\r\n                                    </script> </p>\r\n                                    </td>\r\n                                </td>\r\n                            \r\n                                \r\n                                <td style=\"transform: rotate(0deg);\r\n                   text-align: center;\">\r\n                                 ↑\r\n                                </td>\r\n                            \r\n                            </tr>\r\n                        \r\n                        </tbody>\r\n                    </table>",
            "application/x-qsharp-data": "{\"div_id\":\"dump-machine-div-f4132f61-8d3a-4016-b94d-edcdbf39448a\",\"qubit_ids\":[0],\"n_qubits\":1,\"amplitudes\":[{\"Real\":0.7071067811865476,\"Imaginary\":0.0,\"Magnitude\":0.7071067811865476,\"Phase\":0.0},{\"Real\":0.7071067811865476,\"Imaginary\":0.0,\"Magnitude\":0.7071067811865476,\"Phase\":0.0}]}"
          },
          "metadata": {}
        },
        {
          "output_type": "execute_result",
          "execution_count": 6,
          "data": {
            "text/plain": "()"
          },
          "metadata": {}
        }
      ],
      "execution_count": 6,
      "metadata": {},
      "id": "knowing-alaska"
    },
    {
      "cell_type": "code",
      "source": [
        "DumpPlus.simulate_noise()"
      ],
      "outputs": [
        {
          "output_type": "display_data",
          "data": {
            "text/plain": "Mixed state on 1 qubits: [ [0.5001100693290156 + 0 i, 0.4955602658152263 + 0 i] [0.4955602658152263 + 0 i, 0.4995192803421991 + 0 i] ]",
            "text/html": "\r\n                    <table>\r\n                        <caption>Mixed state</caption>\r\n                        <tr>\r\n                            <th># of qubits</th>\r\n                            <td>1</td>\r\n                        </tr>\r\n\r\n                        <tr>\r\n                            <th>State data</th>\r\n                            <td>\r\n                                $$\r\n                                \\left(\r\n                                    \\begin{matrix}\r\n                                        0.5001100693290156 + 0 i & 0.4955602658152263 + 0 i\\\\\n0.4955602658152263 + 0 i & 0.4995192803421991 + 0 i\r\n                                    \\end{matrix}\r\n                                \\right)\r\n                                $$\r\n                            </td>\r\n                        </tr>\r\n                    </table>\r\n                ",
            "application/x-qsharp-data": "{\"Data\":[0.5001100693290156,0.0,0.4955602658152263,0.0,0.4955602658152263,0.0,0.4995192803421991,0.0],\"NQubits\":1}"
          },
          "metadata": {}
        },
        {
          "output_type": "execute_result",
          "execution_count": 7,
          "data": {
            "text/plain": "()"
          },
          "metadata": {}
        }
      ],
      "execution_count": 7,
      "metadata": {},
      "id": "f791e6f6"
    },
    {
      "cell_type": "markdown",
      "source": [
        "## Stabilizer Simulation"
      ],
      "metadata": {},
      "id": "94c70d54"
    },
    {
      "cell_type": "code",
      "source": [
        "noise_model = qsharp.experimental.get_noise_model_by_name('ideal_stabilizer')\n",
        "noise_model['h'] = qsharp.experimental.SequenceProcess(1, \n",
        "    [\n",
        "        qsharp.experimental.ChpDecompositionProcess(1, [\n",
        "            qsharp.experimental.Hadamard(0)\n",
        "        ]),\n",
        "        qsharp.experimental.MixedPauliProcess(1, [\n",
        "            (0.8, 'I'),\n",
        "            (0.2, 'Z')\n",
        "        ])\n",
        "    ]\n",
        ")\n",
        "qsharp.experimental.set_noise_model(noise_model)\n",
        "qsharp.config['experimental.simulators.representation'] = 'stabilizer'\n",
        "qsharp.config['experimental.simulators.nQubits'] = 2"
      ],
      "outputs": [],
      "execution_count": 8,
      "metadata": {},
      "id": "a02721e7"
    },
    {
      "cell_type": "code",
      "source": [
        "%%qsharp\n",
        "\n",
        "operation DumpBellPair() : Unit {\n",
        "    use left = Qubit();\n",
        "    use right = Qubit();\n",
        "    within {\n",
        "        H(left);\n",
        "        CNOT(left, right);\n",
        "    } apply {\n",
        "        Microsoft.Quantum.Diagnostics.DumpMachine();\n",
        "    }\n",
        "}"
      ],
      "outputs": [],
      "execution_count": 9,
      "metadata": {},
      "id": "2204f4ae"
    },
    {
      "cell_type": "code",
      "source": [
        "DumpBellPair.simulate()"
      ],
      "outputs": [
        {
          "output_type": "display_data",
          "data": {
            "text/plain": "|0⟩\t0.7071067811865476 + 0𝑖\n|1⟩\t0 + 0𝑖\n|2⟩\t0 + 0𝑖\n|3⟩\t0.7071067811865476 + 0𝑖",
            "text/html": "\r\n                    <table style=\"table-layout: fixed; width: 100%\">\r\n                        <thead>\r\n                            \r\n                        <tr>\r\n                            <th>Qubit IDs</th>\r\n                            <td span=\"3\">0, 1</td>\r\n                        </tr>\r\n                    \r\n                            <tr>\r\n                                <th style=\"width: 20ch)\">Basis state (little endian)</th>\r\n                                <th style=\"width: 20ch\">Amplitude</th><th style=\"width: calc(100% - 26ch - 20ch)\">Meas. Pr.</th><th style=\"width: 6ch\">Phase</th>\r\n                            </tr>\r\n                        </thead>\r\n                        <tbody>\r\n                        \r\n                            <tr>\r\n                                <td>$\\left|0\\right\\rangle$</td>\r\n                                <td>$0.7071 + 0.0000 i$</td>\r\n                                \r\n                                <td>\r\n                                    <progress\r\n                                        max=\"100\"\r\n                                        value=\"50.000000000000014\"\r\n                                        style=\"width: 100%;\"\r\n                                    > \r\n                                    <td>\r\n                                    <p id=\"round-379ca4b3-bf42-458d-9569-06962ace3681\"> \r\n                                    <script>\r\n                                    var num = 50.000000000000014;\r\n                                    num = num.toFixed(4);\r\n                                    var num_string = num + \"%\";\r\n                                     document.getElementById(\"round-379ca4b3-bf42-458d-9569-06962ace3681\").innerHTML = num_string;\r\n                                    </script> </p>\r\n                                    </td>\r\n                                </td>\r\n                            \r\n                                \r\n                                <td style=\"transform: rotate(0deg);\r\n                   text-align: center;\">\r\n                                 ↑\r\n                                </td>\r\n                            \r\n                            </tr>\r\n                        \n\r\n                            <tr>\r\n                                <td>$\\left|1\\right\\rangle$</td>\r\n                                <td>$0.0000 + 0.0000 i$</td>\r\n                                \r\n                                <td>\r\n                                    <progress\r\n                                        max=\"100\"\r\n                                        value=\"0\"\r\n                                        style=\"width: 100%;\"\r\n                                    > \r\n                                    <td>\r\n                                    <p id=\"round-414b44fa-5aba-4276-8aea-52f0705ffb9c\"> \r\n                                    <script>\r\n                                    var num = 0;\r\n                                    num = num.toFixed(4);\r\n                                    var num_string = num + \"%\";\r\n                                     document.getElementById(\"round-414b44fa-5aba-4276-8aea-52f0705ffb9c\").innerHTML = num_string;\r\n                                    </script> </p>\r\n                                    </td>\r\n                                </td>\r\n                            \r\n                                \r\n                                <td style=\"transform: rotate(0deg);\r\n                   text-align: center;\">\r\n                                 ↑\r\n                                </td>\r\n                            \r\n                            </tr>\r\n                        \n\r\n                            <tr>\r\n                                <td>$\\left|2\\right\\rangle$</td>\r\n                                <td>$0.0000 + 0.0000 i$</td>\r\n                                \r\n                                <td>\r\n                                    <progress\r\n                                        max=\"100\"\r\n                                        value=\"0\"\r\n                                        style=\"width: 100%;\"\r\n                                    > \r\n                                    <td>\r\n                                    <p id=\"round-996f2dff-eca7-4cc6-b646-64f7c0fc42a1\"> \r\n                                    <script>\r\n                                    var num = 0;\r\n                                    num = num.toFixed(4);\r\n                                    var num_string = num + \"%\";\r\n                                     document.getElementById(\"round-996f2dff-eca7-4cc6-b646-64f7c0fc42a1\").innerHTML = num_string;\r\n                                    </script> </p>\r\n                                    </td>\r\n                                </td>\r\n                            \r\n                                \r\n                                <td style=\"transform: rotate(0deg);\r\n                   text-align: center;\">\r\n                                 ↑\r\n                                </td>\r\n                            \r\n                            </tr>\r\n                        \n\r\n                            <tr>\r\n                                <td>$\\left|3\\right\\rangle$</td>\r\n                                <td>$0.7071 + 0.0000 i$</td>\r\n                                \r\n                                <td>\r\n                                    <progress\r\n                                        max=\"100\"\r\n                                        value=\"50.000000000000014\"\r\n                                        style=\"width: 100%;\"\r\n                                    > \r\n                                    <td>\r\n                                    <p id=\"round-bbf0735a-6b25-4ab5-8fbe-95e7df4cea9f\"> \r\n                                    <script>\r\n                                    var num = 50.000000000000014;\r\n                                    num = num.toFixed(4);\r\n                                    var num_string = num + \"%\";\r\n                                     document.getElementById(\"round-bbf0735a-6b25-4ab5-8fbe-95e7df4cea9f\").innerHTML = num_string;\r\n                                    </script> </p>\r\n                                    </td>\r\n                                </td>\r\n                            \r\n                                \r\n                                <td style=\"transform: rotate(0deg);\r\n                   text-align: center;\">\r\n                                 ↑\r\n                                </td>\r\n                            \r\n                            </tr>\r\n                        \r\n                        </tbody>\r\n                    </table>",
            "application/x-qsharp-data": "{\"div_id\":\"dump-machine-div-7d494df2-71d2-439d-bbd7-69d0d6184c40\",\"qubit_ids\":[0,1],\"n_qubits\":2,\"amplitudes\":[{\"Real\":0.7071067811865476,\"Imaginary\":0.0,\"Magnitude\":0.7071067811865476,\"Phase\":0.0},{\"Real\":0.0,\"Imaginary\":0.0,\"Magnitude\":0.0,\"Phase\":0.0},{\"Real\":0.0,\"Imaginary\":0.0,\"Magnitude\":0.0,\"Phase\":0.0},{\"Real\":0.7071067811865476,\"Imaginary\":0.0,\"Magnitude\":0.7071067811865476,\"Phase\":0.0}]}"
          },
          "metadata": {}
        },
        {
          "output_type": "execute_result",
          "execution_count": 10,
          "data": {
            "text/plain": "()"
          },
          "metadata": {}
        }
      ],
      "execution_count": 10,
      "metadata": {},
      "id": "4708c2d9"
    },
    {
      "cell_type": "code",
      "source": [
        "for _ in range(5):\n",
        "    DumpBellPair.simulate_noise()"
      ],
      "outputs": [
        {
          "output_type": "display_data",
          "data": {
            "text/plain": "Microsoft.Quantum.Experimental.StabilizerState",
            "text/html": "\r\n                    <table>\r\n                        <caption>Stabilizer state</caption>\r\n                        <tr>\r\n                            <th># of qubits</th>\r\n                            <td>2</td>\r\n                        </tr>\r\n\r\n                        <tr>\r\n                            <th>State data</th>\r\n                            <td>$$\\left\\langle -XX, ZZ \\right\\rangle$$</td>\r\n                        </tr>\r\n                    </table>\r\n                ",
            "application/x-qsharp-data": "{\"Table\":{\"SchemaVersion\":1,\"Dimensions\":[4,5],\"Data\":[false,false,true,false,false,false,true,false,false,false,true,true,false,false,true,false,false,true,true,false],\"AsArray\":[false,false,true,false,false,false,true,false,false,false,true,true,false,false,true,false,false,true,true,false]},\"Data\":[false,false,true,false,false,false,true,false,false,false,true,true,false,false,true,false,false,true,true,false],\"NQubits\":2}"
          },
          "metadata": {}
        },
        {
          "output_type": "display_data",
          "data": {
            "text/plain": "Microsoft.Quantum.Experimental.StabilizerState",
            "text/html": "\r\n                    <table>\r\n                        <caption>Stabilizer state</caption>\r\n                        <tr>\r\n                            <th># of qubits</th>\r\n                            <td>2</td>\r\n                        </tr>\r\n\r\n                        <tr>\r\n                            <th>State data</th>\r\n                            <td>$$\\left\\langle XX, ZZ \\right\\rangle$$</td>\r\n                        </tr>\r\n                    </table>\r\n                ",
            "application/x-qsharp-data": "{\"Table\":{\"SchemaVersion\":1,\"Dimensions\":[4,5],\"Data\":[false,false,true,false,false,false,true,false,false,false,true,true,false,false,false,false,false,true,true,false],\"AsArray\":[false,false,true,false,false,false,true,false,false,false,true,true,false,false,false,false,false,true,true,false]},\"Data\":[false,false,true,false,false,false,true,false,false,false,true,true,false,false,false,false,false,true,true,false],\"NQubits\":2}"
          },
          "metadata": {}
        },
        {
          "output_type": "display_data",
          "data": {
            "text/plain": "Microsoft.Quantum.Experimental.StabilizerState",
            "text/html": "\r\n                    <table>\r\n                        <caption>Stabilizer state</caption>\r\n                        <tr>\r\n                            <th># of qubits</th>\r\n                            <td>2</td>\r\n                        </tr>\r\n\r\n                        <tr>\r\n                            <th>State data</th>\r\n                            <td>$$\\left\\langle XX, ZZ \\right\\rangle$$</td>\r\n                        </tr>\r\n                    </table>\r\n                ",
            "application/x-qsharp-data": "{\"Table\":{\"SchemaVersion\":1,\"Dimensions\":[4,5],\"Data\":[false,false,true,false,false,false,true,false,false,false,true,true,false,false,false,false,false,true,true,false],\"AsArray\":[false,false,true,false,false,false,true,false,false,false,true,true,false,false,false,false,false,true,true,false]},\"Data\":[false,false,true,false,false,false,true,false,false,false,true,true,false,false,false,false,false,true,true,false],\"NQubits\":2}"
          },
          "metadata": {}
        },
        {
          "output_type": "display_data",
          "data": {
            "text/plain": "Microsoft.Quantum.Experimental.StabilizerState",
            "text/html": "\r\n                    <table>\r\n                        <caption>Stabilizer state</caption>\r\n                        <tr>\r\n                            <th># of qubits</th>\r\n                            <td>2</td>\r\n                        </tr>\r\n\r\n                        <tr>\r\n                            <th>State data</th>\r\n                            <td>$$\\left\\langle -XX, ZZ \\right\\rangle$$</td>\r\n                        </tr>\r\n                    </table>\r\n                ",
            "application/x-qsharp-data": "{\"Table\":{\"SchemaVersion\":1,\"Dimensions\":[4,5],\"Data\":[false,false,true,false,false,false,true,false,false,false,true,true,false,false,true,false,false,true,true,false],\"AsArray\":[false,false,true,false,false,false,true,false,false,false,true,true,false,false,true,false,false,true,true,false]},\"Data\":[false,false,true,false,false,false,true,false,false,false,true,true,false,false,true,false,false,true,true,false],\"NQubits\":2}"
          },
          "metadata": {}
        },
        {
          "output_type": "display_data",
          "data": {
            "text/plain": "Microsoft.Quantum.Experimental.StabilizerState",
            "text/html": "\r\n                    <table>\r\n                        <caption>Stabilizer state</caption>\r\n                        <tr>\r\n                            <th># of qubits</th>\r\n                            <td>2</td>\r\n                        </tr>\r\n\r\n                        <tr>\r\n                            <th>State data</th>\r\n                            <td>$$\\left\\langle XX, ZZ \\right\\rangle$$</td>\r\n                        </tr>\r\n                    </table>\r\n                ",
            "application/x-qsharp-data": "{\"Table\":{\"SchemaVersion\":1,\"Dimensions\":[4,5],\"Data\":[false,false,true,false,false,false,true,false,false,false,true,true,false,false,false,false,false,true,true,false],\"AsArray\":[false,false,true,false,false,false,true,false,false,false,true,true,false,false,false,false,false,true,true,false]},\"Data\":[false,false,true,false,false,false,true,false,false,false,true,true,false,false,false,false,false,true,true,false],\"NQubits\":2}"
          },
          "metadata": {}
        }
      ],
      "execution_count": 11,
      "metadata": {},
      "id": "c517bb74"
    }
  ],
  "metadata": {
    "kernelspec": {
      "name": "python3",
      "language": "python",
      "display_name": "Python 3"
    },
    "language_info": {
      "name": "python",
      "version": "3.7.10",
      "mimetype": "text/x-python",
      "codemirror_mode": {
        "name": "ipython",
        "version": 3
      },
      "pygments_lexer": "ipython3",
      "nbconvert_exporter": "python",
      "file_extension": ".py"
    },
    "kernel_info": {
      "name": "python3"
    },
    "nteract": {
      "version": "nteract-front-end@1.0.0"
    }
  },
  "nbformat": 4,
  "nbformat_minor": 5
}